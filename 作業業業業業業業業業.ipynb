{
  "nbformat": 4,
  "nbformat_minor": 0,
  "metadata": {
    "colab": {
      "name": "Untitled0.ipynb",
      "provenance": [],
      "include_colab_link": true
    },
    "kernelspec": {
      "name": "python3",
      "display_name": "Python 3"
    }
  },
  "cells": [
    {
      "cell_type": "markdown",
      "metadata": {
        "id": "view-in-github",
        "colab_type": "text"
      },
      "source": [
        "<a href=\"https://colab.research.google.com/github/andrew267/CS4high/blob/master/%E4%BD%9C%E6%A5%AD%E6%A5%AD%E6%A5%AD%E6%A5%AD%E6%A5%AD%E6%A5%AD%E6%A5%AD%E6%A5%AD%E6%A5%AD.ipynb\" target=\"_parent\"><img src=\"https://colab.research.google.com/assets/colab-badge.svg\" alt=\"Open In Colab\"/></a>"
      ]
    },
    {
      "cell_type": "code",
      "metadata": {
        "id": "mLuAvfoWQVaP",
        "colab_type": "code",
        "colab": {
          "base_uri": "https://localhost:8080/",
          "height": 33
        },
        "outputId": "ffec7916-1b31-42c4-b833-adee36e11515"
      },
      "source": [
        "round(3.49)"
      ],
      "execution_count": 3,
      "outputs": [
        {
          "output_type": "execute_result",
          "data": {
            "text/plain": [
              "3"
            ]
          },
          "metadata": {
            "tags": []
          },
          "execution_count": 3
        }
      ]
    },
    {
      "cell_type": "code",
      "metadata": {
        "id": "3NNQXaRPQc8F",
        "colab_type": "code",
        "colab": {
          "base_uri": "https://localhost:8080/",
          "height": 33
        },
        "outputId": "79937bc4-a04f-4b0e-9e47-c584daae11c3"
      },
      "source": [
        "round(3.51)"
      ],
      "execution_count": 2,
      "outputs": [
        {
          "output_type": "execute_result",
          "data": {
            "text/plain": [
              "4"
            ]
          },
          "metadata": {
            "tags": []
          },
          "execution_count": 2
        }
      ]
    },
    {
      "cell_type": "code",
      "metadata": {
        "id": "UsOY1ZFyS_hy",
        "colab_type": "code",
        "colab": {
          "base_uri": "https://localhost:8080/",
          "height": 33
        },
        "outputId": "c6b44687-bc4f-4cb4-f27e-3c483f089930"
      },
      "source": [
        "word = \"arttarataaa\"\n",
        "print(word.replace(\"a\", \"z\",3))"
      ],
      "execution_count": 4,
      "outputs": [
        {
          "output_type": "stream",
          "text": [
            "zrttzrztaaa\n"
          ],
          "name": "stdout"
        }
      ]
    },
    {
      "cell_type": "code",
      "metadata": {
        "id": "MxsQRr7_TMAp",
        "colab_type": "code",
        "colab": {
          "base_uri": "https://localhost:8080/",
          "height": 50
        },
        "outputId": "8a730af6-7db3-4d0e-8d21-057b8c5af5cd"
      },
      "source": [
        "names = ['龍', '聖']\n",
        "index = 0\n",
        "\n",
        "while index < len(names):\n",
        "    name = names[index]\n",
        "    print(name)\n",
        "    index = index + 1"
      ],
      "execution_count": 5,
      "outputs": [
        {
          "output_type": "stream",
          "text": [
            "龍\n",
            "聖\n"
          ],
          "name": "stdout"
        }
      ]
    },
    {
      "cell_type": "code",
      "metadata": {
        "id": "uWZ3m146Tpt2",
        "colab_type": "code",
        "colab": {
          "base_uri": "https://localhost:8080/",
          "height": 33
        },
        "outputId": "5e0b4770-405b-4fc6-d0fa-b057645e8b87"
      },
      "source": [
        "list1=range(1,82,4)\n",
        "print(sum(list(list1))+81)"
      ],
      "execution_count": 18,
      "outputs": [
        {
          "output_type": "stream",
          "text": [
            "942\n"
          ],
          "name": "stdout"
        }
      ]
    },
    {
      "cell_type": "code",
      "metadata": {
        "id": "HDNbQs9VbUCU",
        "colab_type": "code",
        "colab": {}
      },
      "source": [
        "index = 0\n",
        "while index < 1:\n",
        "        print(\"hello, 龍聖\")"
      ],
      "execution_count": 0,
      "outputs": []
    },
    {
      "cell_type": "code",
      "metadata": {
        "id": "hxGE02TcbuKb",
        "colab_type": "code",
        "colab": {}
      },
      "source": [
        "index = 0\n",
        "while index > 1:\n",
        "        print(\"hello, 龍聖\")"
      ],
      "execution_count": 0,
      "outputs": []
    },
    {
      "cell_type": "code",
      "metadata": {
        "id": "dn3s4cORfWHv",
        "colab_type": "code",
        "colab": {
          "base_uri": "https://localhost:8080/",
          "height": 33
        },
        "outputId": "2d0bb3ef-e84a-4e22-da35-c533c5992640"
      },
      "source": [
        "total=1\n",
        "\n",
        "for x in range(1,101,2):\n",
        "  total *=x\n",
        "  \n",
        "print(total)"
      ],
      "execution_count": 24,
      "outputs": [
        {
          "output_type": "stream",
          "text": [
            "2725392139750729502980713245400918633290796330545803413734328823443106201171875\n"
          ],
          "name": "stdout"
        }
      ]
    },
    {
      "cell_type": "code",
      "metadata": {
        "id": "YIxL5rBrfjE-",
        "colab_type": "code",
        "colab": {
          "base_uri": "https://localhost:8080/",
          "height": 33
        },
        "outputId": "aa5c1031-72cd-40a6-c506-6e911c064f03"
      },
      "source": [
        "total = 1\n",
        "x=1\n",
        "\n",
        "while x < 101:\n",
        "  total *=x\n",
        "  x = x+2     # x += 2\n",
        "  \n",
        "  \n",
        "print(total)"
      ],
      "execution_count": 35,
      "outputs": [
        {
          "output_type": "stream",
          "text": [
            "2725392139750729502980713245400918633290796330545803413734328823443106201171875\n"
          ],
          "name": "stdout"
        }
      ]
    }
  ]
}