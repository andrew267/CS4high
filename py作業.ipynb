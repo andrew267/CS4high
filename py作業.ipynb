{
  "nbformat": 4,
  "nbformat_minor": 0,
  "metadata": {
    "colab": {
      "name": "Untitled13.ipynb",
      "provenance": [],
      "collapsed_sections": [],
      "include_colab_link": true
    },
    "kernelspec": {
      "name": "python3",
      "display_name": "Python 3"
    }
  },
  "cells": [
    {
      "cell_type": "markdown",
      "metadata": {
        "id": "view-in-github",
        "colab_type": "text"
      },
      "source": [
        "<a href=\"https://colab.research.google.com/github/andrew267/CS4high/blob/master/py%E4%BD%9C%E6%A5%AD.ipynb\" target=\"_parent\"><img src=\"https://colab.research.google.com/assets/colab-badge.svg\" alt=\"Open In Colab\"/></a>"
      ]
    },
    {
      "cell_type": "code",
      "metadata": {
        "id": "8lmrb6DF0_F7",
        "colab_type": "code",
        "colab": {
          "base_uri": "https://localhost:8080/",
          "height": 85
        },
        "outputId": "6c1c2caa-ac8d-41db-d308-307309964ea5"
      },
      "source": [
        "print(\"hello!\") #印出hello\n",
        "print(3*2*(17-2.1)) #印出(3*2*(17-2.1))的運算結果\n",
        "print(\"abc\"+\"def\")  #印出(\"abc\"+\"def\")字串結合結果\n",
        "word = \"art\"\n",
        "print(word.replace(\"r\", \"n\")) #印出art r用n代替"
      ],
      "execution_count": 1,
      "outputs": [
        {
          "output_type": "stream",
          "text": [
            "hello!\n",
            "89.4\n",
            "abcdef\n",
            "ant\n"
          ],
          "name": "stdout"
        }
      ]
    },
    {
      "cell_type": "code",
      "metadata": {
        "id": "_j0_VdQH1-B1",
        "colab_type": "code",
        "colab": {
          "base_uri": "https://localhost:8080/",
          "height": 51
        },
        "outputId": "d081a194-b882-49c2-8e54-f0f042b0f6c5"
      },
      "source": [
        "a= 1 #設a為1\n",
        "b= 2 #設b為2\n",
        "c = a/b #設c為a除以b\n",
        "print(a, \"/\", b, \"=\", c) #印出a/b=c\n",
        "add = str(a)+\"/\"+str(b)+\"=\"+str(c)\n",
        "print(add)"
      ],
      "execution_count": 2,
      "outputs": [
        {
          "output_type": "stream",
          "text": [
            "1 / 2 = 0.5\n",
            "1/2=0.5\n"
          ],
          "name": "stdout"
        }
      ]
    }
  ]
}